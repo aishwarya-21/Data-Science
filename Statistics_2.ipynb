{
  "nbformat": 4,
  "nbformat_minor": 0,
  "metadata": {
    "colab": {
      "provenance": []
    },
    "kernelspec": {
      "name": "python3",
      "display_name": "Python 3"
    },
    "language_info": {
      "name": "python"
    }
  },
  "cells": [
    {
      "cell_type": "code",
      "execution_count": null,
      "metadata": {
        "id": "dV9BT7nlrt_k"
      },
      "outputs": [],
      "source": [
        "import numpy as np"
      ]
    },
    {
      "cell_type": "code",
      "source": [
        "import scipy.stats as stats"
      ],
      "metadata": {
        "id": "7V4zUa5Nz_Cr"
      },
      "execution_count": null,
      "outputs": []
    },
    {
      "cell_type": "markdown",
      "source": [
        "# a. 99% Confidence Interval Using Sample Standard Deviation"
      ],
      "metadata": {
        "id": "btX0zZ8m3HP-"
      }
    },
    {
      "cell_type": "code",
      "source": [
        "data = [1.13, 1.55, 1.43, 0.92, 1.25, 1.36, 1.32, 0.85, 1.07, 1.48, 1.20, 1.33, 1.18, 1.22, 1.29]"
      ],
      "metadata": {
        "id": "76mkZJEpslV6"
      },
      "execution_count": null,
      "outputs": []
    },
    {
      "cell_type": "markdown",
      "source": [
        "1. **Calculate the sample mean:** The average durability of the print-heads in the sample.\n"
      ],
      "metadata": {
        "id": "txonuQyg1l0d"
      }
    },
    {
      "cell_type": "code",
      "source": [
        "mean = np.mean(data)\n",
        "mean"
      ],
      "metadata": {
        "colab": {
          "base_uri": "https://localhost:8080/"
        },
        "id": "i6zzh4TcsqIu",
        "outputId": "764ae2e9-92a8-4c8c-cd3e-1a38c0d6bfc0"
      },
      "execution_count": null,
      "outputs": [
        {
          "output_type": "execute_result",
          "data": {
            "text/plain": [
              "1.2386666666666666"
            ]
          },
          "metadata": {},
          "execution_count": 4
        }
      ]
    },
    {
      "cell_type": "markdown",
      "source": [
        "2. **Calculate the sample standard deviation:** Measures the dispersion of the data points from the sample mean."
      ],
      "metadata": {
        "id": "2DE8bxT21qYH"
      }
    },
    {
      "cell_type": "code",
      "source": [
        "std = np.std(data)\n",
        "std"
      ],
      "metadata": {
        "colab": {
          "base_uri": "https://localhost:8080/"
        },
        "id": "drr2pznNs2YH",
        "outputId": "afd42aed-9827-4fcc-f54d-108ca14349f8"
      },
      "execution_count": null,
      "outputs": [
        {
          "output_type": "execute_result",
          "data": {
            "text/plain": [
              "0.18661427836285438"
            ]
          },
          "metadata": {},
          "execution_count": 24
        }
      ]
    },
    {
      "cell_type": "markdown",
      "source": [
        "3. **Determine the t-critical value:** Since the sample size is small and the population standard deviation is unknown, the t-distribution is used. The critical value corresponds to a 99% confidence level and\n",
        "n−1 degrees of freedom.\n",
        "\n",
        "calculate the t-critical value for the given data using scipy.stats.t.ppf()"
      ],
      "metadata": {
        "id": "fxo3C3h_2Bna"
      }
    },
    {
      "cell_type": "code",
      "source": [
        "t_critical = stats.t.ppf(0.995, len(data) - 1)\n",
        "t_critical"
      ],
      "metadata": {
        "colab": {
          "base_uri": "https://localhost:8080/"
        },
        "id": "p8UkDiFuy5pg",
        "outputId": "0408bef9-5ce7-443a-b545-2cf65627cf46"
      },
      "execution_count": null,
      "outputs": [
        {
          "output_type": "execute_result",
          "data": {
            "text/plain": [
              "2.976842734370834"
            ]
          },
          "metadata": {},
          "execution_count": 25
        }
      ]
    },
    {
      "cell_type": "markdown",
      "source": [
        "**standard error:** sample standard deviation divided by the square root of the sample size."
      ],
      "metadata": {
        "id": "jw83bp_v2SMC"
      }
    },
    {
      "cell_type": "code",
      "source": [
        "std_error = std / np.sqrt(len(data))\n",
        "std_error"
      ],
      "metadata": {
        "colab": {
          "base_uri": "https://localhost:8080/"
        },
        "id": "ZCpBvz2l0Xj6",
        "outputId": "3dbc7fbb-a315-4c56-f75b-8a194c66c5d0"
      },
      "execution_count": null,
      "outputs": [
        {
          "output_type": "execute_result",
          "data": {
            "text/plain": [
              "0.04818359948425667"
            ]
          },
          "metadata": {},
          "execution_count": 26
        }
      ]
    },
    {
      "cell_type": "markdown",
      "source": [
        "4. **Compute the margin of error:** This is the product of the t-critical value and the standard error"
      ],
      "metadata": {
        "id": "-75GQJ752nV6"
      }
    },
    {
      "cell_type": "code",
      "source": [
        "err_margin = t_critical * std_error\n",
        "err_margin"
      ],
      "metadata": {
        "colab": {
          "base_uri": "https://localhost:8080/"
        },
        "id": "33dLRkWP0gjn",
        "outputId": "4f47ec09-e591-4336-8ef3-1180fa5c306c"
      },
      "execution_count": null,
      "outputs": [
        {
          "output_type": "execute_result",
          "data": {
            "text/plain": [
              "0.14343499804054372"
            ]
          },
          "metadata": {},
          "execution_count": 27
        }
      ]
    },
    {
      "cell_type": "markdown",
      "source": [
        "5. **Construct the confidence interval:** Subtract and add the margin of error to the sample mean"
      ],
      "metadata": {
        "id": "QDGBEI0t2xwR"
      }
    },
    {
      "cell_type": "code",
      "source": [
        "intv1 = mean - err_margin\n",
        "intv2 = mean + err_margin\n",
        "print(intv1, intv2)"
      ],
      "metadata": {
        "colab": {
          "base_uri": "https://localhost:8080/"
        },
        "id": "ZWoJ1CVo0unu",
        "outputId": "a14bda2e-3b37-489d-9ae5-942fbcf514a8"
      },
      "execution_count": null,
      "outputs": [
        {
          "output_type": "stream",
          "name": "stdout",
          "text": [
            "1.095231668626123 1.3821016647072102\n"
          ]
        }
      ]
    },
    {
      "cell_type": "markdown",
      "source": [
        "# b. 99% Confidence Interval Using Known Population Standard Deviation"
      ],
      "metadata": {
        "id": "7WRq32XA1ZrY"
      }
    },
    {
      "cell_type": "markdown",
      "source": [
        "1. Use the **sample mean** from the data as calculated earlier.\n",
        "\n",
        "2. Given the population standard deviation is known, use the **z-distribution** (normal distribution) instead of the t-distribution. (standard deviation = 0.2)"
      ],
      "metadata": {
        "id": "n6hKJm8M3lv7"
      }
    },
    {
      "cell_type": "code",
      "source": [
        "standard_dev = 0.2"
      ],
      "metadata": {
        "id": "x_Q7RLA66nf9"
      },
      "execution_count": null,
      "outputs": []
    },
    {
      "cell_type": "markdown",
      "source": [
        "3. **Determine the z-critical value:** For a 99% confidence leve\n",
        "\n",
        "calculate the z-critical value for the given data using scipy.stats.norm.ppf("
      ],
      "metadata": {
        "id": "njU27P6O32Xg"
      }
    },
    {
      "cell_type": "code",
      "source": [
        "z_critical = stats.norm.ppf(0.995)\n",
        "z_critical"
      ],
      "metadata": {
        "colab": {
          "base_uri": "https://localhost:8080/"
        },
        "id": "0IBt32983Npd",
        "outputId": "89446e52-fbe3-43c0-949a-02be4a3b2710"
      },
      "execution_count": null,
      "outputs": [
        {
          "output_type": "execute_result",
          "data": {
            "text/plain": [
              "2.5758293035489004"
            ]
          },
          "metadata": {},
          "execution_count": 17
        }
      ]
    },
    {
      "cell_type": "markdown",
      "source": [
        "4.**Compute the margin of error:** Using the z-critical value and the known population standard deviation."
      ],
      "metadata": {
        "id": "xFFUnVFE4FLb"
      }
    },
    {
      "cell_type": "code",
      "source": [
        "margin_of_error = z_critical * (standard_dev / np.sqrt(len(data)))\n",
        "margin_of_error"
      ],
      "metadata": {
        "colab": {
          "base_uri": "https://localhost:8080/"
        },
        "id": "d41lTKrW4kWM",
        "outputId": "7cc2deab-6bad-4e35-86d8-2502b2564f54"
      },
      "execution_count": null,
      "outputs": [
        {
          "output_type": "execute_result",
          "data": {
            "text/plain": [
              "0.13301525327090588"
            ]
          },
          "metadata": {},
          "execution_count": 31
        }
      ]
    },
    {
      "cell_type": "markdown",
      "source": [
        "5.**Construct the confidence interval:** As before, subtract and add the margin of error to the sample mean."
      ],
      "metadata": {
        "id": "sDfIDLCR5C0y"
      }
    },
    {
      "cell_type": "code",
      "source": [
        "zintv1 = mean - margin_of_error\n",
        "zintv2 = mean + margin_of_error\n",
        "print(zintv1, zintv2)"
      ],
      "metadata": {
        "colab": {
          "base_uri": "https://localhost:8080/"
        },
        "id": "_0dbNCOJ5JAC",
        "outputId": "233fb07c-5cd4-4b3e-915f-3f09ea4816fb"
      },
      "execution_count": null,
      "outputs": [
        {
          "output_type": "stream",
          "name": "stdout",
          "text": [
            "1.1056514133957607 1.3716819199375725\n"
          ]
        }
      ]
    },
    {
      "cell_type": "markdown",
      "source": [
        "**These intervals provide a range where the true mean durability of the print-heads is likely to be found, with 99% confidence. ​**"
      ],
      "metadata": {
        "id": "b1to6Rc15zpd"
      }
    }
  ]
}